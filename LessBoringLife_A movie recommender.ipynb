{
 "cells": [
  {
   "attachments": {},
   "cell_type": "markdown",
   "metadata": {},
   "source": [
    "The following is an attempt to define a function to retrieve information about the movie based on user input\n",
    "and also a function to retrieve similar movies."
   ]
  },
  {
   "cell_type": "code",
   "execution_count": 1,
   "metadata": {},
   "outputs": [],
   "source": [
    "# https://github.com/AnthonyBloomer/tmdbv3api \n",
    "from tmdbv3api import TMDb, Movie, Discover, Search, Genre\n",
    "from PIL import Image\n",
    "import requests\n",
    "from io import BytesIO\n",
    "# Define your TMDb API key as a constant\n",
    "API_KEY = 'd944cd67a3dabaab9b2326c0360723a1'\n",
    "# API_KEY = input(\"Enter your API key: \")\n",
    "\n",
    "# Initialize the TMDb API client\n",
    "tmdb = TMDb()\n",
    "tmdb.api_key = API_KEY"
   ]
  },
  {
   "cell_type": "code",
   "execution_count": 34,
   "metadata": {},
   "outputs": [],
   "source": [
    "def search_movie_info(movie_name):\n",
    "    # Initialize the Movie class\n",
    "    movie = Movie()\n",
    "\n",
    "    try:\n",
    "        # Search for the movie by name\n",
    "        search_results = movie.search(movie_name)\n",
    "        \n",
    "        # Assume we found the first movie in the search results\n",
    "        if search_results:\n",
    "            first_result = search_results[0]\n",
    "            \n",
    "            # Extract movie details\n",
    "            movie_title = first_result[\"title\"]\n",
    "            movie_id = first_result[\"id\"]\n",
    "            movie_year = first_result[\"release_date\"][:4]\n",
    "            movie_description = first_result[\"overview\"]\n",
    "            movie_poster_path = first_result[\"poster_path\"]\n",
    "            \n",
    "            # Construct the poster URL\n",
    "            base_url = \"https://image.tmdb.org/t/p/w500\"\n",
    "            movie_poster_url = f\"{base_url}{movie_poster_path}\"\n",
    "            \n",
    "            # Download the movie poster image\n",
    "            response = requests.get(movie_poster_url)\n",
    "            img = Image.open(BytesIO(response.content))\n",
    "\n",
    "            # Display movie information\n",
    "            print(f\"Title: {movie_title}\")\n",
    "            print(f\"ID: {movie_id}\")\n",
    "            print(f\"Year: {movie_year}\")\n",
    "            print(f\"Description: {movie_description}\")\n",
    "            \n",
    "            img = img.resize((92, int(92 * img.height / img.width)), Image.ANTIALIAS)\n",
    "            \n",
    "            # Show the resized movie poster\n",
    "            display(img)\n",
    "\n",
    "            return {\n",
    "                \"Title\": movie_title,\n",
    "                \"ID\": movie_id,\n",
    "                \"Year\": movie_year,\n",
    "                \"Description\": movie_description,\n",
    "                \"Poster\": img\n",
    "            }\n",
    "        else:\n",
    "            return \"Movie not found\"\n",
    "    except Exception as e:\n",
    "        return str(e)\n",
    "\n"
   ]
  },
  {
   "cell_type": "code",
   "execution_count": 35,
   "metadata": {},
   "outputs": [
    {
     "name": "stdout",
     "output_type": "stream",
     "text": [
      "Title: Fight Club\n",
      "ID: 550\n",
      "Year: 1999\n",
      "Description: A ticking-time-bomb insomniac and a slippery soap salesman channel primal male aggression into a shocking new form of therapy. Their concept catches on, with underground \"fight clubs\" forming in every town, until an eccentric gets in the way and ignites an out-of-control spiral toward oblivion.\n"
     ]
    }
   ],
   "source": [
    "# Ask the user for a movie name\n",
    "movie_name = input(\"Enter a movie name: \")\n",
    "\n",
    "# Call the function and print the result\n",
    "movie_info = search_movie_info(movie_name)\n",
    "\n"
   ]
  },
  {
   "cell_type": "code",
   "execution_count": 36,
   "metadata": {},
   "outputs": [
    {
     "name": "stdout",
     "output_type": "stream",
     "text": [
      "Movie Found: A Cuban Fight Against Demons\n",
      "\n",
      "Similar Movies:\n",
      "Che: Part One (ID: 8881)\n",
      "Before Night Falls (ID: 5001)\n",
      "Topaz (ID: 2370)\n",
      "The Motorcycle Diaries (ID: 1653)\n",
      "Jíbaro (ID: 498558)\n",
      "Dirty Dancing: Havana Nights (ID: 10677)\n",
      "Stories of the Revolution (ID: 215277)\n",
      "Cuba '58 (ID: 363751)\n",
      "Viva Cuba (ID: 26232)\n",
      "Havana (ID: 22189)\n",
      "Cuba (ID: 62001)\n",
      "Fidel (ID: 60370)\n",
      "The Man from Maisinicu (ID: 284366)\n",
      "Fidel (ID: 425263)\n",
      "Clandestinos (ID: 312030)\n",
      "The Survivors (ID: 106180)\n",
      "Yankee Comandante (ID: 698904)\n",
      "El brigadista (ID: 263796)\n",
      "I Am Cuba (ID: 32015)\n",
      "Querido Fidel (ID: 878396)\n"
     ]
    }
   ],
   "source": [
    "def get_similar_movies(movie_id):\n",
    "    # Initialize the Movie class\n",
    "    movie = Movie()\n",
    "\n",
    "    try:\n",
    "        # Get similar movies based on the provided movie ID\n",
    "        similar_movies = movie.similar(movie_id)\n",
    "\n",
    "        if similar_movies:\n",
    "            similar_movie_list = []\n",
    "\n",
    "            for similar_movie in similar_movies:\n",
    "                movie_title = similar_movie[\"title\"]\n",
    "                movie_id = similar_movie[\"id\"]\n",
    "                similar_movie_list.append({\"Title\": movie_title, \"ID\": movie_id})\n",
    "\n",
    "            return similar_movie_list\n",
    "        else:\n",
    "            return \"No similar movies found\"\n",
    "    except Exception as e:\n",
    "        return str(e)\n",
    "\n",
    "# Ask the user for a movie name to search for\n",
    "movie_name = input(\"Enter a movie name to search for: \")\n",
    "\n",
    "# Search for the movie and get its details\n",
    "movie_results = Movie().search(movie_name)\n",
    "\n",
    "if movie_results:\n",
    "    first_movie = movie_results[0]\n",
    "    movie_id = first_movie[\"id\"]\n",
    "    movie_title = first_movie[\"title\"]\n",
    "    print(f\"Movie Found: {movie_title}\")\n",
    "\n",
    "    # Get similar movies for the found movie\n",
    "    similar_movies = get_similar_movies(movie_id)\n",
    "\n",
    "    if isinstance(similar_movies, list):\n",
    "        print(\"\\nSimilar Movies:\")\n",
    "        for similar_movie in similar_movies:\n",
    "            print(f\"{similar_movie['Title']} (ID: {similar_movie['ID']})\")\n",
    "    else:\n",
    "        print(similar_movies)\n",
    "else:\n",
    "    print(\"Movie not found\")"
   ]
  }
 ],
 "metadata": {
  "kernelspec": {
   "display_name": "Python 3",
   "language": "python",
   "name": "python3"
  },
  "language_info": {
   "codemirror_mode": {
    "name": "ipython",
    "version": 3
   },
   "file_extension": ".py",
   "mimetype": "text/x-python",
   "name": "python",
   "nbconvert_exporter": "python",
   "pygments_lexer": "ipython3",
   "version": "3.10.11"
  },
  "orig_nbformat": 4
 },
 "nbformat": 4,
 "nbformat_minor": 2
}
